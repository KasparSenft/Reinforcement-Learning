{
 "cells": [
  {
   "cell_type": "markdown",
   "metadata": {},
   "source": [
    "## Solving the Mountain Car problem using Q-Learning"
   ]
  },
  {
   "cell_type": "markdown",
   "metadata": {},
   "source": [
    "The Mountain Car problem consists of trying to get a car to the top of a hill. The car does ot have eough power to drive straight up the hill, so must learn to drive up, roll back, and then use the momentum to drive up to the top. There is a picture of the environment below. We will use Q-Learning to solve the environment.\n",
    "\n",
    "\n",
    "<img src = \"mountain_car.png\" width =400px>"
   ]
  },
  {
   "cell_type": "code",
   "execution_count": 53,
   "metadata": {},
   "outputs": [],
   "source": [
    "import numpy as np\n",
    "import matplotlib.pyplot as plt\n",
    "import gymnasium as gym\n",
    "from tqdm import tqdm"
   ]
  },
  {
   "cell_type": "markdown",
   "metadata": {},
   "source": [
    "The observations of the environment are a tuple of the car's position on the x-axis ad its velocity. The position is in the range $(-1.2,0.6)$ and the velocity is in the range $(0.6,0.07)$. If the x-position exceeds $0.5$ the car has reached the flag. We discretize the space dividing the observations into an $n\\times n$ grid. The fuctions below take inn nan observation from the enviroment and give out its position on the grid."
   ]
  },
  {
   "cell_type": "code",
   "execution_count": 2,
   "metadata": {},
   "outputs": [],
   "source": [
    "grid_num = 20\n",
    "\n",
    "def calculate_index(x,a,b, n = grid_num):\n",
    "    s = (b-a)/n\n",
    "    return int((x-a)//s)\n",
    "\n",
    "def translate_obs(obs):\n",
    "    pos_i = calculate_index(obs[0],-1.2,0.6)\n",
    "    vel_i = calculate_index(obs[1], -0.07,0.07)\n",
    "    return pos_i,vel_i"
   ]
  },
  {
   "cell_type": "markdown",
   "metadata": {},
   "source": [
    "The action nspace is discrete, consisting of $\\{0,1,2\\}$, corresponding to driving left, doing nothing, ad driving right respectively."
   ]
  },
  {
   "cell_type": "markdown",
   "metadata": {},
   "source": [
    "### Q-Learning\n",
    "\n",
    "We use Q learning to solve the control problem. We build a Q-table for the state action pairs. This will be an $n \\times n\\times 3$ table, where $n$ is the number of divisions of our grid. We innitialise it randomly annd use the update rule\n",
    "$$ Q(S_t,A_t)\\leftarrow Q(S_t,A_t) +\\alpha [R_t + \\gamma\\max_a Q(S_{t+1},a) - Q(S_t,A_t)]$$\n",
    "Where $\\alpha$ is the learning rate. Given $S_t$ we sample $A_t$ using the $\\epsilon$-greedy policy derived from $Q$."
   ]
  },
  {
   "cell_type": "code",
   "execution_count": 49,
   "metadata": {},
   "outputs": [
    {
     "name": "stderr",
     "output_type": "stream",
     "text": [
      "100%|██████████| 100000/100000 [16:20<00:00, 102.02it/s]\n"
     ]
    }
   ],
   "source": [
    "num_epochs = 100000\n",
    "alpha = 0.1\n",
    "eps = 0.5\n",
    "gamma = 0.95\n",
    "\n",
    "#Start the exploration rate high and decay over time\n",
    "def get_epsilon_decay(epoch, epsilon = eps, n = num_epochs):\n",
    "    \"\"\"\"\n",
    "    epoch: int; which epoch of the training stage we are in,\n",
    "    epsilon: float; original epsilon starting value,\n",
    "    n: int; total number of epochs being trained for \n",
    "    \"\"\"\n",
    "    step_size = 2*eps/n\n",
    "    m = np.max([(n/2)*eps, 1])\n",
    "    return m*step_size\n",
    "\n",
    "#Agent Class to be trained\n",
    "class Mountain_Agent():\n",
    "    def __init__(self, env,eps = eps, n= grid_num):\n",
    "        self.n = n\n",
    "        self.Q = np.random.rand(n,n,3)\n",
    "        self.eps = eps\n",
    "\n",
    "    #Reset the Q table\n",
    "    def reset(self):\n",
    "        self.Q = np.random.rand(self.n,self.n,3)\n",
    "\n",
    "    #Sample an epsilon greedy action from the current Q-table\n",
    "    def eps_greedy_act(self,state, eps):\n",
    "        if np.random.rand() < eps:\n",
    "            return env.action_space.sample()\n",
    "        else:\n",
    "            return np.argmax(self.Q[state])\n",
    "        \n",
    "    def greedy_act(self,state):\n",
    "        return np.argmax(self.Q[state])\n",
    "\n",
    "#Training for one epoch\n",
    "def train_one_epoch(env,agent,epsilon,alpha = alpha, gamma = gamma):\n",
    "    \"\"\" \n",
    "    env: gym.Env; environment beign trained in,\n",
    "    aget: Mountain_Agent; agent being trained,\n",
    "    epsilon: float; exploration rate,\n",
    "    alpha; float: learing rate,\n",
    "    gamma: float; discount factor\n",
    "    \"\"\"\n",
    "    obs,info = env.reset()\n",
    "    obs = translate_obs(obs)\n",
    "    done = False\n",
    "    truncated = False \n",
    "\n",
    "    total_reward = 0\n",
    "    max_distance = 0\n",
    "\n",
    "    while not (done or truncated):\n",
    "        action = agent.eps_greedy_act(obs,epsilon)\n",
    "        new_obs,reward, done, truncated, info = env.step(action)\n",
    "        if new_obs[0] > max_distance:\n",
    "            max_distance = new_obs[0]\n",
    "        total_reward += reward\n",
    "        new_obs = translate_obs(new_obs)\n",
    "        agent.Q[obs][action] += alpha*(reward + gamma * np.max(agent.Q[new_obs]) - agent.Q[obs][action])\n",
    "        obs = new_obs\n",
    "\n",
    "\n",
    "    return total_reward,max_distance, done\n",
    "\n",
    "#Training for multiple epochs\n",
    "def train(env,agent, num_epochs = num_epochs):\n",
    "    \"\"\" \n",
    "    env: gym.Env; environment beig traied in,\n",
    "    agent: Mountain_Agennt; agent being trained,\n",
    "    num_epochs: int; number of episodes to train for\n",
    "    \"\"\"\n",
    "    rewards = []\n",
    "    distances = []\n",
    "    total_solved = 0\n",
    "    total = 0\n",
    "\n",
    "    # pbar = tqdm(range(num_episodes))\n",
    "    for episode in tqdm(range(num_epochs)):\n",
    "        e = get_epsilon_decay(episode)\n",
    "        total_reward, max_distance, solved= train_one_epoch(env,agent,e)\n",
    "        rewards.append(total_reward)\n",
    "        distances.append(max_distance)\n",
    "\n",
    "        if solved:\n",
    "            total_solved+=1\n",
    "        \n",
    "        total +=1\n",
    "\n",
    "\n",
    "    return rewards,distances, total_solved\n",
    "\n",
    "\n",
    "env = gym.make('MountainCar-v0')\n",
    "agent = Mountain_Agent(env)\n",
    "rewards,distances, num_solved = train(env,agent)"
   ]
  },
  {
   "cell_type": "markdown",
   "metadata": {},
   "source": [
    "We plot an runing average of the rewards obtained at each episode to see that the agent is learning to solve the agent We also evaluate the agent for 1000 episodes and measure the percentage of times it solves the environment. "
   ]
  },
  {
   "cell_type": "code",
   "execution_count": 71,
   "metadata": {},
   "outputs": [
    {
     "name": "stderr",
     "output_type": "stream",
     "text": [
      "100%|██████████| 1000/1000 [00:05<00:00, 183.22it/s]\n"
     ]
    },
    {
     "name": "stdout",
     "output_type": "stream",
     "text": [
      "Percentage of evaluation episodes solved = 90.7%\n"
     ]
    },
    {
     "data": {
      "image/png": "[encoded data removed]",
      "text/plain": [
       "<Figure size 640x480 with 1 Axes>"
      ]
     },
     "metadata": {},
     "output_type": "display_data"
    }
   ],
   "source": [
    "def evaluate_agent(agent,env,eval_episodes = 1000):\n",
    "    \"\"\" \n",
    "    agent: Moutain_Agent; agent to be evaluated,\n",
    "    env: gym.Env; environmet to be evaluated in,\n",
    "    eval_episodes: int; number of episodes to evaluate for\n",
    "    \"\"\"\n",
    "    solved = 0\n",
    "    total =0\n",
    "\n",
    "    for _ in tqdm(range(eval_episodes)):\n",
    "        obs,_ = env.reset()\n",
    "        obs = translate_obs(obs)\n",
    "        done = False\n",
    "        truncated = False\n",
    "\n",
    "\n",
    "        while not(done or truncated):\n",
    "            action = agent.greedy_act(obs)\n",
    "            obs, reward,done,truncated, _ = env.step(action)\n",
    "            obs = translate_obs(obs)\n",
    "            if done:\n",
    "                solved +=1\n",
    "        \n",
    "        total+=1\n",
    "\n",
    "\n",
    "\n",
    "    return solved/total\n",
    "\n",
    "solved = evaluate_agent(agent,env)\n",
    "\n",
    "print(f'Percentage of evaluation episodes solved = {solved*100}%')\n",
    "\n",
    "running_average = []\n",
    "s = 0\n",
    "\n",
    "for i, r in enumerate(rewards):\n",
    "    s += (1/(i+1))*(r-s)\n",
    "    running_average.append(s)\n",
    "\n",
    "plt.xlabel('Epoch')\n",
    "plt.ylabel('Runing Average Reward')\n",
    "plt.ticklabel_format(style='sci', axis='x', scilimits=(4,4))\n",
    "plt.title('Q-Learning Agent Rewards')\n",
    "plt.plot(running_average)\n",
    "plt.show()"
   ]
  }
 ],
 "metadata": {
  "kernelspec": {
   "display_name": "rl_practice",
   "language": "python",
   "name": "python3"
  },
  "language_info": {
   "codemirror_mode": {
    "name": "ipython",
    "version": 3
   },
   "file_extension": ".py",
   "mimetype": "text/x-python",
   "name": "python",
   "nbconvert_exporter": "python",
   "pygments_lexer": "ipython3",
   "version": "3.10.13"
  },
  "orig_nbformat": 4
 },
 "nbformat": 4,
 "nbformat_minor": 2
}
